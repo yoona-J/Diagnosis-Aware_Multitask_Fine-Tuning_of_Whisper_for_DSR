{
 "cells": [
  {
   "cell_type": "code",
   "execution_count": null,
   "id": "8ce717c2",
   "metadata": {},
   "outputs": [],
   "source": [
    "import os\n",
    "import json\n",
    "import pandas as pd\n",
    "\n",
    "folders = [r'\\\\YOUR_ROOT\\Stroke', r'\\\\YOUR_ROOT\\Cerebral_Palsy', r'\\\\YOUR_ROOT\\Peripheral_Neuropathy']\n",
    "\n",
    "all_data = []\n",
    "\n",
    "for folder in folders:\n",
    "    folder_path = os.path.join(os.getcwd(), folder)\n",
    "    if not os.path.isdir(folder_path):\n",
    "        print(f\"No Root: {folder_path}\")\n",
    "        continue\n",
    "    \n",
    "    for file_name in os.listdir(folder_path):\n",
    "        if file_name.endswith('.json'):\n",
    "            file_path = os.path.join(folder_path, file_name)\n",
    "            try:\n",
    "                with open(file_path, 'r', encoding='utf-8') as f:\n",
    "                    data = json.load(f)\n",
    "                    data['folder'] = folder\n",
    "                    data['file_name'] = file_name\n",
    "                    all_data.append(data)\n",
    "            except Exception as e:\n",
    "                print(f\"{file_path} Failed: {e}\")\n",
    "\n",
    "try:\n",
    "    df = pd.DataFrame(all_data)\n",
    "    display(df.head())\n",
    "except Exception as e:\n",
    "    print(f\"Failed: {e}\")"
   ]
  },
  {
   "cell_type": "code",
   "execution_count": null,
   "id": "b71faf64",
   "metadata": {},
   "outputs": [],
   "source": [
    "folder_to_disease = {\n",
    "    r'\\\\YOUR_ROOT\\Stroke': 0,\n",
    "    r'\\\\YOUR_ROOT\\Cerebral_Palsy': 1,\n",
    "    r'\\\\YOUR_ROOT\\Peripheral_Neuropathy': 2\n",
    "}\n",
    "\n",
    "df['Disease'] = df['folder'].map(folder_to_disease)\n",
    "\n",
    "display(df[['folder', 'Disease']].drop_duplicates())\n"
   ]
  },
  {
   "cell_type": "code",
   "execution_count": null,
   "id": "23513db9",
   "metadata": {},
   "outputs": [],
   "source": [
    "print(df['Disease'].value_counts().sort_index())"
   ]
  },
  {
   "cell_type": "code",
   "execution_count": null,
   "id": "71918e1f",
   "metadata": {},
   "outputs": [],
   "source": [
    "print(df.columns.tolist())"
   ]
  },
  {
   "cell_type": "code",
   "execution_count": null,
   "id": "03e8f64b",
   "metadata": {},
   "outputs": [],
   "source": [
    "columns_to_drop = ['Disease_info', 'Meta_info', 'FileSize','file_name','folder','playTime','Test_info']\n",
    "\n",
    "df = df.drop(columns=columns_to_drop)\n",
    "\n",
    "print(df.columns)"
   ]
  },
  {
   "cell_type": "code",
   "execution_count": null,
   "id": "5378f32e",
   "metadata": {},
   "outputs": [],
   "source": [
    "for col in df.columns:\n",
    "    first_valid = df[col].dropna().iloc[0] if not df[col].dropna().empty else None\n",
    "    \n",
    "    if isinstance(first_valid, dict):\n",
    "        print(f\"\\n {col}\")\n",
    "        expanded = df[col].apply(pd.Series)\n",
    "        for sub_col in expanded.columns:\n",
    "            print(f\"{sub_col}\")\n",
    "            print(expanded[sub_col].unique()[:10])\n",
    "    else:\n",
    "        print(f\"\\n{col}\")\n",
    "        print(df[col].unique()[:10])"
   ]
  },
  {
   "cell_type": "code",
   "execution_count": null,
   "id": "664fc27c",
   "metadata": {},
   "outputs": [],
   "source": [
    "patient_info_df = df['Patient_info'].apply(pd.Series)\n",
    "\n",
    "df['Sex'] = patient_info_df.get('Sex')\n",
    "df['Age'] = patient_info_df.get('Age')\n",
    "df['Area'] = patient_info_df.get('Area')\n",
    "\n",
    "display(df[['Sex', 'Age', 'Area']].head())"
   ]
  },
  {
   "cell_type": "code",
   "execution_count": null,
   "id": "b4b4329f",
   "metadata": {},
   "outputs": [],
   "source": [
    "df['Initial'] = df['File_id'].str.split('-').str[4]\n",
    "print(df.Initial)"
   ]
  },
  {
   "cell_type": "code",
   "execution_count": null,
   "id": "86494ee5",
   "metadata": {},
   "outputs": [],
   "source": [
    "print(df.columns.tolist())"
   ]
  },
  {
   "cell_type": "code",
   "execution_count": null,
   "id": "fdc1c720",
   "metadata": {},
   "outputs": [],
   "source": [
    "columns_to_drop = ['Patient_info']\n",
    "\n",
    "df = df.drop(columns=columns_to_drop)\n",
    "\n",
    "print(df.columns)"
   ]
  },
  {
   "cell_type": "code",
   "execution_count": null,
   "id": "b6ad7954",
   "metadata": {},
   "outputs": [],
   "source": [
    "initial_counts = df['Initial'].value_counts()\n",
    "print(initial_counts)"
   ]
  },
  {
   "cell_type": "code",
   "execution_count": null,
   "id": "a044975a",
   "metadata": {},
   "outputs": [],
   "source": [
    "duplicates = initial_counts[initial_counts > 1]\n",
    "print(f\"duplicated Initial: {len(duplicates)}\")\n",
    "print(duplicates)"
   ]
  },
  {
   "cell_type": "code",
   "execution_count": null,
   "id": "5df6a92e",
   "metadata": {},
   "outputs": [],
   "source": [
    "compare_cols = ['Disease', 'Sex', 'Age', 'Area']\n",
    "\n",
    "conflicting_initials = (\n",
    "    df.groupby('Initial')[compare_cols]\n",
    "    .nunique()\n",
    "    .apply(lambda row: any(row > 1), axis=1)\n",
    ")\n",
    "\n",
    "conflict_ids = conflicting_initials[conflicting_initials].index.tolist()\n",
    "\n",
    "conflict_rows = df[df['Initial'].isin(conflict_ids)]\n",
    "\n",
    "print(f\"Initial: {len(conflict_ids)}\")\n",
    "display(conflict_rows.sort_values(by='Initial')[['Initial'] + compare_cols])"
   ]
  },
  {
   "cell_type": "code",
   "execution_count": null,
   "id": "a8ded39e",
   "metadata": {},
   "outputs": [],
   "source": [
    "for file_id in df['File_id']:\n",
    "    print(file_id)\n",
    "print(f\"file_id: {len(df['File_id'])}\")"
   ]
  },
  {
   "cell_type": "code",
   "execution_count": null,
   "id": "8a99e3ae",
   "metadata": {},
   "outputs": [],
   "source": [
    "import pandas as pd\n",
    "\n",
    "pd.set_option('display.max_rows', 10)\n",
    "\n",
    "display(df[['File_id', 'Area']])"
   ]
  },
  {
   "cell_type": "code",
   "execution_count": null,
   "id": "9649b191",
   "metadata": {},
   "outputs": [],
   "source": [
    "id_columns = ['Initial', 'Disease', 'Sex', 'Age', 'Area']\n",
    "\n",
    "df['ID_num'] = (\n",
    "    df.groupby(id_columns, sort=False)\n",
    "    .ngroup()\n",
    "    .apply(lambda x: f'P{str(x+1).zfill(3)}')  # P001, P002\n",
    ")"
   ]
  },
  {
   "cell_type": "code",
   "execution_count": null,
   "id": "d3839130",
   "metadata": {},
   "outputs": [],
   "source": [
    "df = df[['ID_num', 'Initial', 'Sex', 'Age', 'Area','Disease', 'File_id']]"
   ]
  },
  {
   "cell_type": "code",
   "execution_count": null,
   "id": "86465ad4",
   "metadata": {},
   "outputs": [],
   "source": [
    "pd.set_option('display.max_rows', 10)\n",
    "\n",
    "df"
   ]
  },
  {
   "cell_type": "code",
   "execution_count": null,
   "id": "0a9cd5a1",
   "metadata": {},
   "outputs": [],
   "source": [
    "pd.set_option('display.max_rows', 10)\n",
    "initial_id_counts = df.groupby('Initial')['ID_num'].nunique()\n",
    "\n",
    "ambiguous_initials = initial_id_counts[initial_id_counts > 1].index.tolist()\n",
    "\n",
    "confused_rows = df[df['Initial'].isin(ambiguous_initials)].sort_values(by=['Initial', 'ID_num'])\n",
    "\n",
    "print(f\"🌀 Same Initial but ID_num different: {len(ambiguous_initials)}\")\n",
    "display(confused_rows)\n"
   ]
  },
  {
   "cell_type": "code",
   "execution_count": null,
   "id": "fcae7c79",
   "metadata": {},
   "outputs": [],
   "source": [
    "for col in df.columns:\n",
    "    first_valid = df[col].dropna().iloc[0] if not df[col].dropna().empty else None\n",
    "    \n",
    "    if isinstance(first_valid, dict):\n",
    "        print(f\"\\n{col}\")\n",
    "        expanded = df[col].apply(pd.Series)\n",
    "        for sub_col in expanded.columns:\n",
    "            print(f\"{sub_col}\")\n",
    "            print(expanded[sub_col].unique()[:10])\n",
    "    else:\n",
    "        print(f\"\\n{col}\")\n",
    "        print(df[col].unique()[:10])"
   ]
  },
  {
   "cell_type": "code",
   "execution_count": null,
   "id": "d80a2690",
   "metadata": {},
   "outputs": [],
   "source": [
    "df['Sex'] = df['Sex'].map({'M': 0, 'F': 1})\n",
    "\n",
    "area_map = {\n",
    "    'KK': 0, 'kk': 0,\n",
    "    'SU': 1,\n",
    "    'GW': 2,\n",
    "    'JJ': 3,\n",
    "    'JL': 4,\n",
    "    'GS': 5,\n",
    "    'CC': 6\n",
    "}\n",
    "df['Area'] = df['Area'].map(area_map)\n",
    "\n",
    "print(df.head())"
   ]
  },
  {
   "cell_type": "code",
   "execution_count": null,
   "id": "d0215ea1",
   "metadata": {},
   "outputs": [],
   "source": [
    "cols = ['ID_num', 'Initial', 'Sex', 'Age', 'Area', 'Disease', 'File_id']\n",
    "\n",
    "merged_df = (\n",
    "    df[cols]\n",
    "    .groupby(['ID_num', 'Initial', 'Sex', 'Age', 'Area', 'Disease'])['File_id']\n",
    "    .apply(lambda x: ','.join(sorted(x)))\n",
    "    .reset_index()\n",
    ")\n",
    "\n",
    "merged_df = merged_df.rename(columns={'File_id': 'Merged_File_ids'})\n",
    "\n",
    "print(merged_df.head())"
   ]
  },
  {
   "cell_type": "code",
   "execution_count": null,
   "id": "2c172677",
   "metadata": {},
   "outputs": [],
   "source": [
    "merged_df.to_csv('preprocessing.csv', index=False)"
   ]
  }
 ],
 "metadata": {
  "kernelspec": {
   "display_name": "Python 3",
   "language": "python",
   "name": "python3"
  },
  "language_info": {
   "codemirror_mode": {
    "name": "ipython",
    "version": 3
   },
   "file_extension": ".py",
   "mimetype": "text/x-python",
   "name": "python",
   "nbconvert_exporter": "python",
   "pygments_lexer": "ipython3",
   "version": "3.13.2"
  }
 },
 "nbformat": 4,
 "nbformat_minor": 5
}
