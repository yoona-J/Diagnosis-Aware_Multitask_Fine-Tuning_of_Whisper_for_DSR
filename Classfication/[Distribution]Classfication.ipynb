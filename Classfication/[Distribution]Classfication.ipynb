{
  "cells": [
    {
      "cell_type": "code",
      "execution_count": null,
      "metadata": {
        "colab": {
          "base_uri": "https://localhost:8080/",
          "height": 76
        },
        "id": "H2J6r1Mjwxfe",
        "outputId": "aeffed7f-3899-4670-da85-8457d5ea5ae0"
      },
      "outputs": [],
      "source": [
        "from google.colab import files\n",
        "uploaded = files.upload()"
      ]
    },
    {
      "cell_type": "code",
      "execution_count": null,
      "metadata": {
        "id": "rPWA5mzgw0wO"
      },
      "outputs": [],
      "source": [
        "import pandas as pd\n",
        "import numpy as np\n",
        "\n",
        "filename = list(uploaded.keys())[0]\n",
        "df = pd.read_csv(filename)"
      ]
    },
    {
      "cell_type": "code",
      "execution_count": null,
      "metadata": {
        "colab": {
          "base_uri": "https://localhost:8080/",
          "height": 206
        },
        "id": "JR0aI5HBw17K",
        "outputId": "bef9e009-659c-4a78-c979-4fd0b0eae58f"
      },
      "outputs": [],
      "source": [
        "display(df.head())"
      ]
    },
    {
      "cell_type": "code",
      "execution_count": null,
      "metadata": {
        "colab": {
          "base_uri": "https://localhost:8080/"
        },
        "id": "0MwBDwCswojS",
        "outputId": "98851e11-7f02-4be3-c41a-d3e61b580cb1"
      },
      "outputs": [],
      "source": [
        "from sklearn.ensemble import RandomForestClassifier, GradientBoostingClassifier, VotingClassifier\n",
        "from xgboost import XGBClassifier\n",
        "from sklearn.linear_model import LogisticRegression\n",
        "from sklearn.svm import SVC\n",
        "from sklearn.neighbors import KNeighborsClassifier\n",
        "from sklearn.model_selection import train_test_split\n",
        "from sklearn.preprocessing import StandardScaler\n",
        "from sklearn.decomposition import PCA\n",
        "from sklearn.metrics import classification_report\n",
        "from imblearn.over_sampling import SMOTE\n",
        "import pandas as pd\n",
        "import numpy as np\n",
        "\n",
        "features = [\n",
        "    'Syllable', 'Speak_Time', 'Pause_Time', 'Pause_Count', 'Speak_Count', 'Pitch_Mean', 'Jitter_Local', 'Shimmer_Local', 'HNR', 'MFCC', 'Formant', 'Age', 'Sex'\n",
        "]\n",
        "\n",
        "X_raw = df[features]\n",
        "\n",
        "y = df['Disease']\n",
        "\n",
        "X_train, X_test, y_train, y_test = train_test_split(X_raw, y, test_size=0.3, stratify=y, random_state=42)\n",
        "X_resampled, y_resampled = SMOTE(random_state=42).fit_resample(X_train, y_train)\n",
        "\n",
        "models = {\n",
        "    \"RandomForest\": RandomForestClassifier(class_weight='balanced', random_state=42),\n",
        "    \"XGBoost\": XGBClassifier(use_label_encoder=False, eval_metric='mlogloss', random_state=42),\n",
        "    \"LogisticRegression\": LogisticRegression(max_iter=1000, class_weight='balanced'),\n",
        "    \"SVC\": SVC(class_weight='balanced', probability=True),\n",
        "    \"KNN\": KNeighborsClassifier(),\n",
        "    \"GradientBoosting\": GradientBoostingClassifier()\n",
        "}\n",
        "\n",
        "results = {}\n",
        "for name, model in models.items():\n",
        "    model.fit(X_resampled, y_resampled)\n",
        "    y_pred = model.predict(X_test)\n",
        "    report = classification_report(y_test, y_pred, output_dict=True)\n",
        "    results[name] = report\n",
        "\n",
        "import pandas as pd\n",
        "df_results = pd.DataFrame({\n",
        "    model: {\n",
        "        'accuracy': results[model]['accuracy'],\n",
        "        'macro_f1': results[model]['macro avg']['f1-score'],\n",
        "    }\n",
        "    for model in results\n",
        "}).T.sort_values(by='macro_f1', ascending=False)\n",
        "\n",
        "print(\"\\n Comparison by model:\")\n",
        "print(df_results)"
      ]
    },
    {
      "cell_type": "code",
      "execution_count": null,
      "metadata": {
        "colab": {
          "base_uri": "https://localhost:8080/",
          "height": 424
        },
        "id": "-8z3J8XlykBi",
        "outputId": "5fc6ac86-0ce4-4eed-ef60-e3925b2cd2c9"
      },
      "outputs": [],
      "source": [
        "import pandas as pd\n",
        "\n",
        "disease_mapping = {\n",
        "    0: 'Stroke',\n",
        "    1: 'Cerebral Palsy',\n",
        "    2: 'Peripheral Neuropathy'\n",
        "}\n",
        "\n",
        "df['Disease'] = df['Disease'].map(disease_mapping)\n",
        "\n",
        "df"
      ]
    },
    {
      "cell_type": "code",
      "execution_count": null,
      "metadata": {
        "colab": {
          "base_uri": "https://localhost:8080/",
          "height": 555
        },
        "id": "AtMvuADZymPm",
        "outputId": "177f0434-7b6e-4868-e291-92c82ffa5391"
      },
      "outputs": [],
      "source": [
        "df.isnull().sum()"
      ]
    },
    {
      "cell_type": "code",
      "execution_count": null,
      "metadata": {
        "colab": {
          "base_uri": "https://localhost:8080/"
        },
        "id": "2SGK82ucyrX5",
        "outputId": "960e2293-8ba9-4e9d-a7a9-0484b8665086"
      },
      "outputs": [],
      "source": [
        "import pandas as pd\n",
        "from sklearn.model_selection import train_test_split\n",
        "from sklearn.preprocessing import StandardScaler\n",
        "from sklearn.decomposition import PCA\n",
        "from sklearn.metrics import classification_report\n",
        "from imblearn.over_sampling import SMOTE\n",
        "from sklearn.ensemble import GradientBoostingClassifier\n",
        "from sklearn.metrics import accuracy_score\n",
        "import numpy as np\n",
        "\n",
        "features = [\n",
        "    'Syllable', 'Speak_Time', 'Pause_Time', 'Pause_Count', 'Speak_Count', 'Pitch_Mean', 'Jitter_Local', 'Shimmer_Local', 'HNR', 'MFCC', 'Formant', 'Age', 'Sex'\n",
        "]\n",
        "\n",
        "X = df[features]\n",
        "y = df['Disease']\n",
        "\n",
        "X_train, X_test, y_train, y_test = train_test_split(\n",
        "    X, y, test_size=0.2, stratify=y, random_state=42\n",
        ")\n",
        "\n",
        "smote = SMOTE(random_state=42)\n",
        "X_resampled, y_resampled = smote.fit_resample(X_train, y_train)\n",
        "\n",
        "model = GradientBoostingClassifier(random_state=42)\n",
        "model.fit(X_resampled, y_resampled)\n",
        "\n",
        "y_pred = model.predict(X_test)\n",
        "print(\"GradientBoosting using SMOTE:\")\n",
        "print(\"Accuracy:\", accuracy_score(y_test, y_pred))\n",
        "print(classification_report(y_test, y_pred))"
      ]
    },
    {
      "cell_type": "code",
      "execution_count": null,
      "metadata": {
        "colab": {
          "base_uri": "https://localhost:8080/"
        },
        "id": "8Zok977EzRIO",
        "outputId": "8896dfb0-111a-4377-9715-e51390705df0"
      },
      "outputs": [],
      "source": [
        "import pandas as pd\n",
        "from sklearn.model_selection import train_test_split\n",
        "from sklearn.preprocessing import StandardScaler\n",
        "from sklearn.decomposition import PCA\n",
        "from sklearn.metrics import classification_report\n",
        "from imblearn.over_sampling import SMOTE\n",
        "from sklearn.ensemble import GradientBoostingClassifier\n",
        "from sklearn.metrics import accuracy_score\n",
        "import numpy as np\n",
        "\n",
        "features = [\n",
        "    'Syllable', 'Speak_Time', 'Pause_Time', 'Pause_Count', 'Speak_Count', 'Pitch_Mean', 'Jitter_Local', 'Shimmer_Local', 'HNR', 'MFCC', 'Formant', 'Age', 'Sex'\n",
        "]\n",
        "\n",
        "X = df[features]\n",
        "y = df['Disease']\n",
        "\n",
        "X_train, X_test, y_train, y_test = train_test_split(\n",
        "    X, y, test_size=0.2, stratify=y, random_state=42\n",
        ")\n",
        "\n",
        "model = GradientBoostingClassifier(random_state=42)\n",
        "model.fit(X_train, y_train)\n",
        "\n",
        "y_pred = model.predict(X_test)\n",
        "print(\"GradientBoosting without SMOTE:\")\n",
        "print(\"Accuracy:\", accuracy_score(y_test, y_pred))\n",
        "print(classification_report(y_test, y_pred))"
      ]
    },
    {
      "cell_type": "code",
      "execution_count": null,
      "metadata": {
        "colab": {
          "base_uri": "https://localhost:8080/"
        },
        "id": "ROmAfivjyt0m",
        "outputId": "89a0c259-f964-4371-9dcb-5ebc210634f0"
      },
      "outputs": [],
      "source": [
        "from sklearn.ensemble import GradientBoostingClassifier\n",
        "from sklearn.inspection import permutation_importance\n",
        "from sklearn.model_selection import train_test_split\n",
        "from sklearn.metrics import accuracy_score\n",
        "from scipy.stats import ttest_1samp\n",
        "import numpy as np\n",
        "import pandas as pd\n",
        "\n",
        "result = permutation_importance(model, X_test, y_test, n_repeats=30, random_state=0, scoring='accuracy')\n",
        "\n",
        "n_features = result.importances.shape[0]\n",
        "\n",
        "feature_names = X_test.columns[:n_features]\n",
        "\n",
        "p_values = []\n",
        "for importances in result.importances:\n",
        "    stat, p = ttest_1samp(importances, 0.0)\n",
        "    p_values.append(p)\n",
        "\n",
        "print(f\"feature_names: {len(feature_names)}, mean: {len(result.importances_mean)}, pvals: {len(p_values)}\")\n",
        "\n",
        "feature_importance_df = pd.DataFrame({\n",
        "    'Feature': feature_names,\n",
        "    'Mean Importance': result.importances_mean,\n",
        "    'Std': result.importances_std,\n",
        "    'p-value': p_values\n",
        "})\n",
        "\n",
        "feature_importance_df = feature_importance_df.sort_values(by='p-value')\n",
        "feature_importance_df.reset_index(drop=True, inplace=True)\n",
        "\n",
        "print(feature_importance_df)"
      ]
    },
    {
      "cell_type": "code",
      "execution_count": null,
      "metadata": {
        "colab": {
          "base_uri": "https://localhost:8080/"
        },
        "id": "vh2E94cqy4CQ",
        "outputId": "fe0100bd-9dd3-43cb-b2d9-fa16c4b03a2a"
      },
      "outputs": [],
      "source": [
        "import pandas as pd\n",
        "from sklearn.model_selection import train_test_split\n",
        "from sklearn.preprocessing import StandardScaler\n",
        "from sklearn.decomposition import PCA\n",
        "from sklearn.metrics import classification_report\n",
        "from imblearn.over_sampling import SMOTE\n",
        "from sklearn.ensemble import GradientBoostingClassifier\n",
        "from sklearn.metrics import accuracy_score\n",
        "import numpy as np\n",
        "\n",
        "features = [\n",
        "    'Syllable', 'Pause_Time', 'Pitch_Mean', 'Jitter_Local', 'HNR', 'MFCC', 'Formant', 'Age', 'Sex'\n",
        "]\n",
        "\n",
        "X = df[features]\n",
        "y = df['Disease']\n",
        "\n",
        "X_train, X_test, y_train, y_test = train_test_split(\n",
        "    X, y, test_size=0.2, stratify=y, random_state=42\n",
        ")\n",
        "\n",
        "smote = SMOTE(random_state=42)\n",
        "X_resampled, y_resampled = smote.fit_resample(X_train, y_train)\n",
        "\n",
        "model = GradientBoostingClassifier(random_state=42)\n",
        "model.fit(X_resampled, y_resampled)\n",
        "\n",
        "y_pred = model.predict(X_test)\n",
        "print(\"GradientBoosting using 9 Features:\")\n",
        "print(\"Accuracy:\", accuracy_score(y_test, y_pred))\n",
        "print(classification_report(y_test, y_pred))"
      ]
    },
    {
      "cell_type": "code",
      "execution_count": null,
      "metadata": {
        "colab": {
          "base_uri": "https://localhost:8080/"
        },
        "id": "8GhmLsmdy7EQ",
        "outputId": "e169eb28-a89b-4173-d602-568df05ca392"
      },
      "outputs": [],
      "source": [
        "from sklearn.ensemble import GradientBoostingClassifier\n",
        "from sklearn.inspection import permutation_importance\n",
        "from sklearn.model_selection import train_test_split\n",
        "from sklearn.metrics import accuracy_score\n",
        "from scipy.stats import ttest_1samp\n",
        "import numpy as np\n",
        "import pandas as pd\n",
        "\n",
        "result = permutation_importance(model, X_test, y_test, n_repeats=30, random_state=0, scoring='accuracy')\n",
        "\n",
        "n_features = result.importances.shape[0]\n",
        "\n",
        "feature_names = X_test.columns[:n_features]  # 또는 X.columns[:n_features]\n",
        "\n",
        "p_values = []\n",
        "for importances in result.importances:\n",
        "    stat, p = ttest_1samp(importances, 0.0)\n",
        "    p_values.append(p)\n",
        "\n",
        "print(f\"feature_names: {len(feature_names)}, mean: {len(result.importances_mean)}, pvals: {len(p_values)}\")\n",
        "\n",
        "feature_importance_df = pd.DataFrame({\n",
        "    'Feature': feature_names,\n",
        "    'Mean Importance': result.importances_mean,\n",
        "    'Std': result.importances_std,\n",
        "    'p-value': p_values\n",
        "})\n",
        "\n",
        "feature_importance_df = feature_importance_df.sort_values(by='p-value')\n",
        "feature_importance_df.reset_index(drop=True, inplace=True)\n",
        "\n",
        "print(feature_importance_df)"
      ]
    },
    {
      "cell_type": "code",
      "execution_count": null,
      "metadata": {
        "colab": {
          "base_uri": "https://localhost:8080/",
          "height": 607
        },
        "id": "yfZYp15Izmcx",
        "outputId": "e4eae559-023c-4ef0-acd1-c0747cf51efb"
      },
      "outputs": [],
      "source": [
        "import matplotlib.pyplot as plt\n",
        "\n",
        "gb_model = model\n",
        "\n",
        "importances = gb_model.feature_importances_\n",
        "feature_names = X.columns if isinstance(X, pd.DataFrame) else [f'feature_{i}' for i in range(X.shape[1])]\n",
        "\n",
        "indices = np.argsort(importances)[::-1]\n",
        "\n",
        "plt.figure(figsize=(10, 6))\n",
        "plt.title(\"9 Feature Importance (Gradient Boosting)\")\n",
        "plt.bar(range(len(importances)), importances[indices])\n",
        "plt.xticks(range(len(importances)), [feature_names[i] for i in indices], rotation=90)\n",
        "plt.tight_layout()\n",
        "plt.show()"
      ]
    },
    {
      "cell_type": "code",
      "execution_count": null,
      "metadata": {
        "colab": {
          "base_uri": "https://localhost:8080/"
        },
        "id": "AcsaLs2Fzs0E",
        "outputId": "d981ea37-2ee0-4349-f3eb-9c52db3418b4"
      },
      "outputs": [],
      "source": [
        "import pandas as pd\n",
        "\n",
        "feature_importance_df = pd.DataFrame({\n",
        "    'feature': [feature_names[i] for i in indices],\n",
        "    'importance': importances[indices]\n",
        "})\n",
        "\n",
        "print(feature_importance_df)"
      ]
    },
    {
      "cell_type": "code",
      "execution_count": null,
      "metadata": {
        "colab": {
          "base_uri": "https://localhost:8080/",
          "height": 542
        },
        "id": "08dzdX2Ez6Oo",
        "outputId": "79427b9d-e308-4808-c605-d2df805cb451"
      },
      "outputs": [],
      "source": [
        "import pandas as pd\n",
        "import seaborn as sns\n",
        "import matplotlib.pyplot as plt\n",
        "\n",
        "plt.figure(figsize=(8, 6))\n",
        "sns.boxplot(x='Disease', y='Age', data=df)\n",
        "plt.ylabel('Age')\n",
        "plt.show()"
      ]
    }
  ],
  "metadata": {
    "colab": {
      "provenance": []
    },
    "kernelspec": {
      "display_name": "Python 3",
      "name": "python3"
    },
    "language_info": {
      "name": "python"
    }
  },
  "nbformat": 4,
  "nbformat_minor": 0
}
